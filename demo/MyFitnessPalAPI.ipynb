{
 "cells": [
  {
   "cell_type": "code",
   "execution_count": 2,
   "metadata": {},
   "outputs": [
    {
     "ename": "MyfitnesspalLoginError",
     "evalue": "Could not access MyFitnessPal using the cookies provided by your browser.  Are you sure you have logged in to MyFitnessPal using a browser on this computer?",
     "output_type": "error",
     "traceback": [
      "\u001b[1;31m---------------------------------------------------------------------------\u001b[0m",
      "\u001b[1;31mMyfitnesspalLoginError\u001b[0m                    Traceback (most recent call last)",
      "Cell \u001b[1;32mIn[2], line 6\u001b[0m\n\u001b[0;32m      4\u001b[0m \u001b[38;5;66;03m# cookies z Firefoxa \u001b[39;00m\n\u001b[0;32m      5\u001b[0m cj \u001b[38;5;241m=\u001b[39m browser_cookie3\u001b[38;5;241m.\u001b[39mfirefox(domain_name\u001b[38;5;241m=\u001b[39m\u001b[38;5;124m'\u001b[39m\u001b[38;5;124mmyfitnesspal.com\u001b[39m\u001b[38;5;124m'\u001b[39m)\n\u001b[1;32m----> 6\u001b[0m client \u001b[38;5;241m=\u001b[39m myfitnesspal\u001b[38;5;241m.\u001b[39mClient(cookiejar\u001b[38;5;241m=\u001b[39mcj)\n",
      "File \u001b[1;32mc:\\Users\\Tomas\\anaconda3\\Lib\\site-packages\\myfitnesspal\\client.py:96\u001b[0m, in \u001b[0;36mClient.__init__\u001b[1;34m(self, cookiejar, unit_aware, log_requests_to)\u001b[0m\n\u001b[0;32m     91\u001b[0m     \u001b[38;5;28;01mfor\u001b[39;00m domain_name \u001b[38;5;129;01min\u001b[39;00m \u001b[38;5;28mself\u001b[39m\u001b[38;5;241m.\u001b[39mCOOKIE_DOMAINS:\n\u001b[0;32m     92\u001b[0m         \u001b[38;5;28mself\u001b[39m\u001b[38;5;241m.\u001b[39msession\u001b[38;5;241m.\u001b[39mcookies\u001b[38;5;241m.\u001b[39mupdate(\n\u001b[0;32m     93\u001b[0m             browser_cookie3\u001b[38;5;241m.\u001b[39mload(domain_name\u001b[38;5;241m=\u001b[39mdomain_name)\n\u001b[0;32m     94\u001b[0m         )\n\u001b[1;32m---> 96\u001b[0m \u001b[38;5;28mself\u001b[39m\u001b[38;5;241m.\u001b[39m_auth_data \u001b[38;5;241m=\u001b[39m \u001b[38;5;28mself\u001b[39m\u001b[38;5;241m.\u001b[39m_get_auth_data()\n\u001b[0;32m     97\u001b[0m \u001b[38;5;28mself\u001b[39m\u001b[38;5;241m.\u001b[39m_user_metadata \u001b[38;5;241m=\u001b[39m \u001b[38;5;28mself\u001b[39m\u001b[38;5;241m.\u001b[39m_get_user_metadata()\n",
      "File \u001b[1;32mc:\\Users\\Tomas\\anaconda3\\Lib\\site-packages\\myfitnesspal\\client.py:143\u001b[0m, in \u001b[0;36mClient._get_auth_data\u001b[1;34m(self)\u001b[0m\n\u001b[0;32m    135\u001b[0m     \u001b[38;5;28;01mraise\u001b[39;00m MyfitnesspalRequestFailed(\n\u001b[0;32m    136\u001b[0m         \u001b[38;5;124m\"\u001b[39m\u001b[38;5;124mUnable to fetch authentication token from MyFitnessPal: \u001b[39m\u001b[38;5;124m\"\u001b[39m\n\u001b[0;32m    137\u001b[0m         \u001b[38;5;124m\"\u001b[39m\u001b[38;5;124mstatus code: \u001b[39m\u001b[38;5;132;01m{status}\u001b[39;00m\u001b[38;5;124m\"\u001b[39m\u001b[38;5;241m.\u001b[39mformat(status\u001b[38;5;241m=\u001b[39mresult\u001b[38;5;241m.\u001b[39mstatus_code)\n\u001b[0;32m    138\u001b[0m     )\n\u001b[0;32m    140\u001b[0m \u001b[38;5;28;01mif\u001b[39;00m \u001b[38;5;129;01mnot\u001b[39;00m result\u001b[38;5;241m.\u001b[39mheaders[\u001b[38;5;124m\"\u001b[39m\u001b[38;5;124mContent-Type\u001b[39m\u001b[38;5;124m\"\u001b[39m]\u001b[38;5;241m.\u001b[39mstartswith(\u001b[38;5;124m\"\u001b[39m\u001b[38;5;124mapplication/json\u001b[39m\u001b[38;5;124m\"\u001b[39m):\n\u001b[0;32m    141\u001b[0m     \u001b[38;5;66;03m# That we didn't receive a JSON document for this request\u001b[39;00m\n\u001b[0;32m    142\u001b[0m     \u001b[38;5;66;03m# is the only obvious clear signal that we aren't logged-in.\u001b[39;00m\n\u001b[1;32m--> 143\u001b[0m     \u001b[38;5;28;01mraise\u001b[39;00m MyfitnesspalLoginError(\n\u001b[0;32m    144\u001b[0m         \u001b[38;5;124m\"\u001b[39m\u001b[38;5;124mCould not access MyFitnessPal using the cookies provided \u001b[39m\u001b[38;5;124m\"\u001b[39m\n\u001b[0;32m    145\u001b[0m         \u001b[38;5;124m\"\u001b[39m\u001b[38;5;124mby your browser.  Are you sure you have logged in to \u001b[39m\u001b[38;5;124m\"\u001b[39m\n\u001b[0;32m    146\u001b[0m         \u001b[38;5;124m\"\u001b[39m\u001b[38;5;124mMyFitnessPal using a browser on this computer?\u001b[39m\u001b[38;5;124m\"\u001b[39m\n\u001b[0;32m    147\u001b[0m     )\n\u001b[0;32m    149\u001b[0m \u001b[38;5;28;01mreturn\u001b[39;00m result\u001b[38;5;241m.\u001b[39mjson()\n",
      "\u001b[1;31mMyfitnesspalLoginError\u001b[0m: Could not access MyFitnessPal using the cookies provided by your browser.  Are you sure you have logged in to MyFitnessPal using a browser on this computer?"
     ]
    }
   ],
   "source": [
    "import browser_cookie3\n",
    "import myfitnesspal\n",
    "\n",
    "# cookies z Firefoxa \n",
    "cj = browser_cookie3.firefox(domain_name='myfitnesspal.com')\n",
    "client = myfitnesspal.Client(cookiejar=cj)"
   ]
  },
  {
   "cell_type": "code",
   "execution_count": 3,
   "metadata": {},
   "outputs": [
    {
     "name": "stdout",
     "output_type": "stream",
     "text": [
      "Dnia 2025-04-25:\n",
      "{'calories': 2365.0, 'carbohydrates': 346.0, 'fat': 55.0, 'protein': 140.0, 'sodium': 3128.0, 'sugar': 93.0}\n"
     ]
    }
   ],
   "source": [
    "import datetime\n",
    "\n",
    "# Pobieramy dane dla wybranej daty, np. wczorajszej\n",
    "yesterday = datetime.date.today() - datetime.timedelta(days=1)\n",
    "day = client.get_date(yesterday.year, yesterday.month, yesterday.day)\n",
    "\n",
    "# Podsumowanie makroskładników\n",
    "print(f\"Dnia {yesterday}:\")\n",
    "print(day.totals)\n",
    "# => {'calories': 2000, 'carbohydrates': 250, 'fat': 70, 'protein': 100, ...}"
   ]
  },
  {
   "cell_type": "code",
   "execution_count": 4,
   "metadata": {},
   "outputs": [
    {
     "name": "stdout",
     "output_type": "stream",
     "text": [
      "Posiłek: breakfast\n",
      "  - protein shake vanilla - protein shake vanilla, 300 ml: {'calories': 312.0, 'carbohydrates': 17.0, 'fat': 13.0, 'protein': 33.0, 'sodium': 0.0, 'sugar': 0.0}\n",
      "Posiłek: lunch\n",
      "  - Homemade - Pasta Carbonara, 2 portion: {'calories': 818.0, 'carbohydrates': 122.0, 'fat': 18.0, 'protein': 53.0, 'sodium': 1376.0, 'sugar': 16.0}\n",
      "Posiłek: dinner\n",
      "  - Corn flakes, 7 cup: {'calories': 625.0, 'carbohydrates': 147.0, 'fat': 1.0, 'protein': 13.0, 'sodium': 1276.0, 'sugar': 17.0}\n",
      "  - Milk, reduced fat, 2%, 5 cup: {'calories': 610.0, 'carbohydrates': 60.0, 'fat': 23.0, 'protein': 41.0, 'sodium': 476.0, 'sugar': 60.0}\n",
      "Posiłek: snacks\n"
     ]
    }
   ],
   "source": [
    "for meal in day.meals:\n",
    "    print(\"Posiłek:\", meal.name)\n",
    "    for entry in meal.entries:\n",
    "        # entry.name to nazwa produktu, entry.totals to słownik makro\n",
    "        print(f\"  - {entry.name}: {entry.totals}\")"
   ]
  },
  {
   "cell_type": "code",
   "execution_count": 8,
   "metadata": {},
   "outputs": [
    {
     "name": "stdout",
     "output_type": "stream",
     "text": [
      "Zapisano mfp_daily_totals.json\n"
     ]
    }
   ],
   "source": [
    "import datetime\n",
    "\n",
    "# zakres dat\n",
    "today = datetime.date.today()\n",
    "start = today - datetime.timedelta(days=7)   # ostatni rok\n",
    "dates = [start + datetime.timedelta(days=i) \n",
    "         for i in range((today - start).days + 1)]\n",
    "\n",
    "# totals dla każdej daty\n",
    "rows = []\n",
    "for d in dates:\n",
    "    day = client.get_date(d.year, d.month, d.day)\n",
    "    data = {\n",
    "        'date':         d.isoformat(),\n",
    "        'calories':     day.totals.get('calories', 0),\n",
    "        'carbohydrates':day.totals.get('carbohydrates', 0),\n",
    "        'fat':          day.totals.get('fat', 0),\n",
    "        'protein':      day.totals.get('protein', 0),\n",
    "        # możesz dorzucić inne klucze np. 'sodium', 'fiber' jeżeli są\n",
    "    }\n",
    "    rows.append(data)\n",
    "\n",
    "import json\n",
    "\n",
    "with open('mfp_daily_totals.json', 'w', encoding='utf-8') as f:\n",
    "    json.dump(rows, f, ensure_ascii=False, indent=2)\n",
    "\n",
    "print(\"Zapisano mfp_daily_totals.json\")"
   ]
  },
  {
   "cell_type": "code",
   "execution_count": 7,
   "metadata": {},
   "outputs": [
    {
     "name": "stdout",
     "output_type": "stream",
     "text": [
      "Zapisano mfp_daily_totals_and_menu.json\n"
     ]
    }
   ],
   "source": [
    "import datetime\n",
    "import json\n",
    "\n",
    "today = datetime.date.today()\n",
    "start = today - datetime.timedelta(days=7)\n",
    "dates = [start + datetime.timedelta(days=i)\n",
    "         for i in range((today - start).days + 1)]\n",
    "\n",
    "data = []\n",
    "for d in dates:\n",
    "    day = client.get_date(d.year, d.month, d.day)\n",
    "    day_dict = {\n",
    "        'date':   d.isoformat(),\n",
    "        'totals': day.totals,\n",
    "        'meals':  []\n",
    "    }\n",
    "\n",
    "    for meal in day.meals:\n",
    "        meal_dict = {\n",
    "            'name':    meal.name,\n",
    "            'entries': []\n",
    "        }\n",
    "        for entry in meal.entries:\n",
    "            meal_dict['entries'].append({\n",
    "                'food':      entry.name,\n",
    "                # jeśli entry.serving_size istnieje, dorzuć ilość:\n",
    "                **({'quantity': entry.serving_size} if hasattr(entry, 'serving_size') else {}),\n",
    "                'totals':    entry.totals\n",
    "            })\n",
    "        day_dict['meals'].append(meal_dict)\n",
    "\n",
    "    data.append(day_dict)\n",
    "\n",
    "\n",
    "with open('mfp_daily_totals_and_menu.json', 'w', encoding='utf-8') as f:\n",
    "    json.dump(data, f, ensure_ascii=False, indent=2)\n",
    "\n",
    "print(\"Zapisano mfp_daily_totals_and_menu.json\")"
   ]
  },
  {
   "cell_type": "code",
   "execution_count": null,
   "metadata": {},
   "outputs": [
    {
     "ename": "TimeoutError",
     "evalue": "Page.wait_for_selector: Timeout 10000ms exceeded.\nCall log:\n  - waiting for locator(\"nav[aria-label=\\\"Top Navigation\\\"]\") to be visible\n",
     "output_type": "error",
     "traceback": [
      "\u001b[1;31m---------------------------------------------------------------------------\u001b[0m",
      "\u001b[1;31mTimeoutError\u001b[0m                              Traceback (most recent call last)",
      "Cell \u001b[1;32mIn[5], line 60\u001b[0m\n\u001b[0;32m     57\u001b[0m     \u001b[38;5;28mprint\u001b[39m(\u001b[38;5;124m\"\u001b[39m\u001b[38;5;124m✅ Zapisano mfp_daily_totals_and_menu.json\u001b[39m\u001b[38;5;124m\"\u001b[39m)\n\u001b[0;32m     59\u001b[0m \u001b[38;5;66;03m# Uruchom w notebooku\u001b[39;00m\n\u001b[1;32m---> 60\u001b[0m \u001b[38;5;28;01mawait\u001b[39;00m fetch_mfp()\n",
      "Cell \u001b[1;32mIn[5], line 21\u001b[0m, in \u001b[0;36mfetch_mfp\u001b[1;34m()\u001b[0m\n\u001b[0;32m     19\u001b[0m \u001b[38;5;28;01mawait\u001b[39;00m page\u001b[38;5;241m.\u001b[39mfill(\u001b[38;5;124m'\u001b[39m\u001b[38;5;124minput[name=\u001b[39m\u001b[38;5;124m\"\u001b[39m\u001b[38;5;124mpassword\u001b[39m\u001b[38;5;124m\"\u001b[39m\u001b[38;5;124m]\u001b[39m\u001b[38;5;124m'\u001b[39m, PASS)\n\u001b[0;32m     20\u001b[0m \u001b[38;5;28;01mawait\u001b[39;00m page\u001b[38;5;241m.\u001b[39mclick(\u001b[38;5;124m'\u001b[39m\u001b[38;5;124mbutton[type=\u001b[39m\u001b[38;5;124m\"\u001b[39m\u001b[38;5;124msubmit\u001b[39m\u001b[38;5;124m\"\u001b[39m\u001b[38;5;124m]\u001b[39m\u001b[38;5;124m'\u001b[39m)\n\u001b[1;32m---> 21\u001b[0m \u001b[38;5;28;01mawait\u001b[39;00m page\u001b[38;5;241m.\u001b[39mwait_for_selector(\u001b[38;5;124m'\u001b[39m\u001b[38;5;124mnav[aria-label=\u001b[39m\u001b[38;5;124m\"\u001b[39m\u001b[38;5;124mTop Navigation\u001b[39m\u001b[38;5;124m\"\u001b[39m\u001b[38;5;124m]\u001b[39m\u001b[38;5;124m'\u001b[39m, timeout\u001b[38;5;241m=\u001b[39m\u001b[38;5;241m10000\u001b[39m)\n\u001b[0;32m     22\u001b[0m selenium_cookies \u001b[38;5;241m=\u001b[39m \u001b[38;5;28;01mawait\u001b[39;00m page\u001b[38;5;241m.\u001b[39mcontext\u001b[38;5;241m.\u001b[39mcookies()\n\u001b[0;32m     23\u001b[0m \u001b[38;5;28;01mawait\u001b[39;00m browser\u001b[38;5;241m.\u001b[39mclose()\n",
      "File \u001b[1;32mc:\\Users\\Tomas\\anaconda3\\Lib\\site-packages\\playwright\\async_api\\_generated.py:8176\u001b[0m, in \u001b[0;36mPage.wait_for_selector\u001b[1;34m(self, selector, timeout, state, strict)\u001b[0m\n\u001b[0;32m   8105\u001b[0m \u001b[38;5;28;01masync\u001b[39;00m \u001b[38;5;28;01mdef\u001b[39;00m \u001b[38;5;21mwait_for_selector\u001b[39m(\n\u001b[0;32m   8106\u001b[0m     \u001b[38;5;28mself\u001b[39m,\n\u001b[0;32m   8107\u001b[0m     selector: \u001b[38;5;28mstr\u001b[39m,\n\u001b[1;32m   (...)\u001b[0m\n\u001b[0;32m   8113\u001b[0m     strict: typing\u001b[38;5;241m.\u001b[39mOptional[\u001b[38;5;28mbool\u001b[39m] \u001b[38;5;241m=\u001b[39m \u001b[38;5;28;01mNone\u001b[39;00m,\n\u001b[0;32m   8114\u001b[0m ) \u001b[38;5;241m-\u001b[39m\u001b[38;5;241m>\u001b[39m typing\u001b[38;5;241m.\u001b[39mOptional[\u001b[38;5;124m\"\u001b[39m\u001b[38;5;124mElementHandle\u001b[39m\u001b[38;5;124m\"\u001b[39m]:\n\u001b[0;32m   8115\u001b[0m \u001b[38;5;250m    \u001b[39m\u001b[38;5;124;03m\"\"\"Page.wait_for_selector\u001b[39;00m\n\u001b[0;32m   8116\u001b[0m \n\u001b[0;32m   8117\u001b[0m \u001b[38;5;124;03m    Returns when element specified by selector satisfies `state` option. Returns `null` if waiting for `hidden` or\u001b[39;00m\n\u001b[1;32m   (...)\u001b[0m\n\u001b[0;32m   8172\u001b[0m \u001b[38;5;124;03m    Union[ElementHandle, None]\u001b[39;00m\n\u001b[0;32m   8173\u001b[0m \u001b[38;5;124;03m    \"\"\"\u001b[39;00m\n\u001b[0;32m   8175\u001b[0m     \u001b[38;5;28;01mreturn\u001b[39;00m mapping\u001b[38;5;241m.\u001b[39mfrom_impl_nullable(\n\u001b[1;32m-> 8176\u001b[0m         \u001b[38;5;28;01mawait\u001b[39;00m \u001b[38;5;28mself\u001b[39m\u001b[38;5;241m.\u001b[39m_impl_obj\u001b[38;5;241m.\u001b[39mwait_for_selector(\n\u001b[0;32m   8177\u001b[0m             selector\u001b[38;5;241m=\u001b[39mselector, timeout\u001b[38;5;241m=\u001b[39mtimeout, state\u001b[38;5;241m=\u001b[39mstate, strict\u001b[38;5;241m=\u001b[39mstrict\n\u001b[0;32m   8178\u001b[0m         )\n\u001b[0;32m   8179\u001b[0m     )\n",
      "File \u001b[1;32mc:\\Users\\Tomas\\anaconda3\\Lib\\site-packages\\playwright\\_impl\\_page.py:425\u001b[0m, in \u001b[0;36mPage.wait_for_selector\u001b[1;34m(self, selector, timeout, state, strict)\u001b[0m\n\u001b[0;32m    418\u001b[0m \u001b[38;5;28;01masync\u001b[39;00m \u001b[38;5;28;01mdef\u001b[39;00m \u001b[38;5;21mwait_for_selector\u001b[39m(\n\u001b[0;32m    419\u001b[0m     \u001b[38;5;28mself\u001b[39m,\n\u001b[0;32m    420\u001b[0m     selector: \u001b[38;5;28mstr\u001b[39m,\n\u001b[1;32m   (...)\u001b[0m\n\u001b[0;32m    423\u001b[0m     strict: \u001b[38;5;28mbool\u001b[39m \u001b[38;5;241m=\u001b[39m \u001b[38;5;28;01mNone\u001b[39;00m,\n\u001b[0;32m    424\u001b[0m ) \u001b[38;5;241m-\u001b[39m\u001b[38;5;241m>\u001b[39m Optional[ElementHandle]:\n\u001b[1;32m--> 425\u001b[0m     \u001b[38;5;28;01mreturn\u001b[39;00m \u001b[38;5;28;01mawait\u001b[39;00m \u001b[38;5;28mself\u001b[39m\u001b[38;5;241m.\u001b[39m_main_frame\u001b[38;5;241m.\u001b[39mwait_for_selector(\u001b[38;5;241m*\u001b[39m\u001b[38;5;241m*\u001b[39mlocals_to_params(\u001b[38;5;28mlocals\u001b[39m()))\n",
      "File \u001b[1;32mc:\\Users\\Tomas\\anaconda3\\Lib\\site-packages\\playwright\\_impl\\_frame.py:323\u001b[0m, in \u001b[0;36mFrame.wait_for_selector\u001b[1;34m(self, selector, strict, timeout, state)\u001b[0m\n\u001b[0;32m    315\u001b[0m \u001b[38;5;28;01masync\u001b[39;00m \u001b[38;5;28;01mdef\u001b[39;00m \u001b[38;5;21mwait_for_selector\u001b[39m(\n\u001b[0;32m    316\u001b[0m     \u001b[38;5;28mself\u001b[39m,\n\u001b[0;32m    317\u001b[0m     selector: \u001b[38;5;28mstr\u001b[39m,\n\u001b[1;32m   (...)\u001b[0m\n\u001b[0;32m    320\u001b[0m     state: Literal[\u001b[38;5;124m\"\u001b[39m\u001b[38;5;124mattached\u001b[39m\u001b[38;5;124m\"\u001b[39m, \u001b[38;5;124m\"\u001b[39m\u001b[38;5;124mdetached\u001b[39m\u001b[38;5;124m\"\u001b[39m, \u001b[38;5;124m\"\u001b[39m\u001b[38;5;124mhidden\u001b[39m\u001b[38;5;124m\"\u001b[39m, \u001b[38;5;124m\"\u001b[39m\u001b[38;5;124mvisible\u001b[39m\u001b[38;5;124m\"\u001b[39m] \u001b[38;5;241m=\u001b[39m \u001b[38;5;28;01mNone\u001b[39;00m,\n\u001b[0;32m    321\u001b[0m ) \u001b[38;5;241m-\u001b[39m\u001b[38;5;241m>\u001b[39m Optional[ElementHandle]:\n\u001b[0;32m    322\u001b[0m     \u001b[38;5;28;01mreturn\u001b[39;00m from_nullable_channel(\n\u001b[1;32m--> 323\u001b[0m         \u001b[38;5;28;01mawait\u001b[39;00m \u001b[38;5;28mself\u001b[39m\u001b[38;5;241m.\u001b[39m_channel\u001b[38;5;241m.\u001b[39msend(\u001b[38;5;124m\"\u001b[39m\u001b[38;5;124mwaitForSelector\u001b[39m\u001b[38;5;124m\"\u001b[39m, locals_to_params(\u001b[38;5;28mlocals\u001b[39m()))\n\u001b[0;32m    324\u001b[0m     )\n",
      "File \u001b[1;32mc:\\Users\\Tomas\\anaconda3\\Lib\\site-packages\\playwright\\_impl\\_connection.py:61\u001b[0m, in \u001b[0;36mChannel.send\u001b[1;34m(self, method, params)\u001b[0m\n\u001b[0;32m     60\u001b[0m \u001b[38;5;28;01masync\u001b[39;00m \u001b[38;5;28;01mdef\u001b[39;00m \u001b[38;5;21msend\u001b[39m(\u001b[38;5;28mself\u001b[39m, method: \u001b[38;5;28mstr\u001b[39m, params: Dict \u001b[38;5;241m=\u001b[39m \u001b[38;5;28;01mNone\u001b[39;00m) \u001b[38;5;241m-\u001b[39m\u001b[38;5;241m>\u001b[39m Any:\n\u001b[1;32m---> 61\u001b[0m     \u001b[38;5;28;01mreturn\u001b[39;00m \u001b[38;5;28;01mawait\u001b[39;00m \u001b[38;5;28mself\u001b[39m\u001b[38;5;241m.\u001b[39m_connection\u001b[38;5;241m.\u001b[39mwrap_api_call(\n\u001b[0;32m     62\u001b[0m         \u001b[38;5;28;01mlambda\u001b[39;00m: \u001b[38;5;28mself\u001b[39m\u001b[38;5;241m.\u001b[39m_inner_send(method, params, \u001b[38;5;28;01mFalse\u001b[39;00m),\n\u001b[0;32m     63\u001b[0m         \u001b[38;5;28mself\u001b[39m\u001b[38;5;241m.\u001b[39m_is_internal_type,\n\u001b[0;32m     64\u001b[0m     )\n",
      "File \u001b[1;32mc:\\Users\\Tomas\\anaconda3\\Lib\\site-packages\\playwright\\_impl\\_connection.py:528\u001b[0m, in \u001b[0;36mConnection.wrap_api_call\u001b[1;34m(self, cb, is_internal)\u001b[0m\n\u001b[0;32m    526\u001b[0m     \u001b[38;5;28;01mreturn\u001b[39;00m \u001b[38;5;28;01mawait\u001b[39;00m cb()\n\u001b[0;32m    527\u001b[0m \u001b[38;5;28;01mexcept\u001b[39;00m \u001b[38;5;167;01mException\u001b[39;00m \u001b[38;5;28;01mas\u001b[39;00m error:\n\u001b[1;32m--> 528\u001b[0m     \u001b[38;5;28;01mraise\u001b[39;00m rewrite_error(error, \u001b[38;5;124mf\u001b[39m\u001b[38;5;124m\"\u001b[39m\u001b[38;5;132;01m{\u001b[39;00mparsed_st[\u001b[38;5;124m'\u001b[39m\u001b[38;5;124mapiName\u001b[39m\u001b[38;5;124m'\u001b[39m]\u001b[38;5;132;01m}\u001b[39;00m\u001b[38;5;124m: \u001b[39m\u001b[38;5;132;01m{\u001b[39;00merror\u001b[38;5;132;01m}\u001b[39;00m\u001b[38;5;124m\"\u001b[39m) \u001b[38;5;28;01mfrom\u001b[39;00m \u001b[38;5;28;01mNone\u001b[39;00m\n\u001b[0;32m    529\u001b[0m \u001b[38;5;28;01mfinally\u001b[39;00m:\n\u001b[0;32m    530\u001b[0m     \u001b[38;5;28mself\u001b[39m\u001b[38;5;241m.\u001b[39m_api_zone\u001b[38;5;241m.\u001b[39mset(\u001b[38;5;28;01mNone\u001b[39;00m)\n",
      "\u001b[1;31mTimeoutError\u001b[0m: Page.wait_for_selector: Timeout 10000ms exceeded.\nCall log:\n  - waiting for locator(\"nav[aria-label=\\\"Top Navigation\\\"]\") to be visible\n"
     ]
    }
   ],
   "source": [
    "import os\n",
    "import json\n",
    "import datetime\n",
    "from dotenv import load_dotenv\n",
    "\n",
    "from playwright.sync_api import sync_playwright\n",
    "from requests.cookies import RequestsCookieJar\n",
    "import myfitnesspal\n",
    "\n",
    "def fetch_mfp_and_save():\n",
    "    # 1. Wczytaj poświadczenia z .env\n",
    "    load_dotenv()\n",
    "    USER = os.getenv(\"MFP_USERNAME\")\n",
    "    PASS = os.getenv(\"MFP_PASSWORD\")\n",
    "    if not USER or not PASS:\n",
    "        raise ValueError(\"Brakuje MFP_USERNAME lub MFP_PASSWORD w pliku .env\")\n",
    "\n",
    "    # 2. Odpalenie headless Chromium przez Playwright\n",
    "    with sync_playwright() as pw:\n",
    "        browser = pw.chromium.launch(headless=True)\n",
    "        page    = browser.new_page()\n",
    "\n",
    "        # 2a. Przejdź na stronę logowania\n",
    "        page.goto(\"https://www.myfitnesspal.com/account/login\")\n",
    "\n",
    "        # 2b. Wypełnij formularz i zaloguj\n",
    "        page.fill('input[name=\"email\"]', USER)\n",
    "        page.fill('input[name=\"password\"]', PASS)\n",
    "        page.click('button[type=\"submit\"]')\n",
    "\n",
    "        # 2c. Poczekaj aż strona się w pełni załaduje (brak ruchu sieciowego)\n",
    "        page.wait_for_load_state(\"networkidle\", timeout=20000)\n",
    "\n",
    "        # 2d. Pobierz ciasteczka z sesji\n",
    "        raw_cookies = page.context.cookies()\n",
    "        browser.close()\n",
    "\n",
    "    # 3. Konwertuj na RequestsCookieJar\n",
    "    jar = RequestsCookieJar()\n",
    "    for c in raw_cookies:\n",
    "        jar.set(c[\"name\"], c[\"value\"], domain=c.get(\"domain\"), path=c.get(\"path\"))\n",
    "\n",
    "    # 4. Stwórz klienta myfitnesspal z zalogowanymi ciasteczkami\n",
    "    client = myfitnesspal.Client(cookiejar=jar)\n",
    "\n",
    "    # 5. Pobierz dane z ostatnich 7 dni\n",
    "    today = datetime.date.today()\n",
    "    start = today - datetime.timedelta(days=7)\n",
    "    dates = [start + datetime.timedelta(days=i) for i in range((today - start).days + 1)]\n",
    "\n",
    "    data = []\n",
    "    for d in dates:\n",
    "        day = client.get_date(d.year, d.month, d.day)\n",
    "        data.append({\n",
    "            \"date\":   d.isoformat(),\n",
    "            \"totals\": day.totals,\n",
    "            \"meals\":  [\n",
    "                {\n",
    "                    \"name\":    meal.name,\n",
    "                    \"entries\": [\n",
    "                        {\n",
    "                            \"food\":      entry.name,\n",
    "                            **({\"quantity\": entry.serving_size}\n",
    "                               if hasattr(entry, \"serving_size\") else {}),\n",
    "                            \"totals\":    entry.totals\n",
    "                        }\n",
    "                        for entry in meal.entries\n",
    "                    ]\n",
    "                }\n",
    "                for meal in day.meals\n",
    "            ]\n",
    "        })\n",
    "\n",
    "    # 6. Zapisz do pliku JSON\n",
    "    with open(\"mfp_daily_totals_and_menu.json\", \"w\", encoding=\"utf-8\") as f:\n",
    "        json.dump(data, f, ensure_ascii=False, indent=2)\n",
    "\n",
    "    print(\"✅ Zapisano mfp_daily_totals_and_menu.json\")\n",
    "\n",
    "if __name__ == \"__main__\":\n",
    "    fetch_mfp_and_save()"
   ]
  }
 ],
 "metadata": {
  "kernelspec": {
   "display_name": "base",
   "language": "python",
   "name": "python3"
  },
  "language_info": {
   "codemirror_mode": {
    "name": "ipython",
    "version": 3
   },
   "file_extension": ".py",
   "mimetype": "text/x-python",
   "name": "python",
   "nbconvert_exporter": "python",
   "pygments_lexer": "ipython3",
   "version": "3.12.4"
  }
 },
 "nbformat": 4,
 "nbformat_minor": 2
}
