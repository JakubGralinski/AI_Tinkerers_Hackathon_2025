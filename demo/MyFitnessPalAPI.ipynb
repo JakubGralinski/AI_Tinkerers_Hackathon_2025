{
 "cells": [
  {
   "cell_type": "code",
   "execution_count": 2,
   "metadata": {},
   "outputs": [],
   "source": [
    "import browser_cookie3\n",
    "import myfitnesspal\n",
    "\n",
    "# cookies z Firefoxa \n",
    "cj = browser_cookie3.firefox(domain_name='myfitnesspal.com')\n",
    "client = myfitnesspal.Client(cookiejar=cj)"
   ]
  },
  {
   "cell_type": "code",
   "execution_count": 3,
   "metadata": {},
   "outputs": [
    {
     "name": "stdout",
     "output_type": "stream",
     "text": [
      "Dnia 2025-04-25:\n",
      "{'calories': 2365.0, 'carbohydrates': 346.0, 'fat': 55.0, 'protein': 140.0, 'sodium': 3128.0, 'sugar': 93.0}\n"
     ]
    }
   ],
   "source": [
    "import datetime\n",
    "\n",
    "# Pobieramy dane dla wybranej daty, np. wczorajszej\n",
    "yesterday = datetime.date.today() - datetime.timedelta(days=1)\n",
    "day = client.get_date(yesterday.year, yesterday.month, yesterday.day)\n",
    "\n",
    "# Podsumowanie makroskładników\n",
    "print(f\"Dnia {yesterday}:\")\n",
    "print(day.totals)\n",
    "# => {'calories': 2000, 'carbohydrates': 250, 'fat': 70, 'protein': 100, ...}"
   ]
  },
  {
   "cell_type": "code",
   "execution_count": 4,
   "metadata": {},
   "outputs": [
    {
     "name": "stdout",
     "output_type": "stream",
     "text": [
      "Posiłek: breakfast\n",
      "  - protein shake vanilla - protein shake vanilla, 300 ml: {'calories': 312.0, 'carbohydrates': 17.0, 'fat': 13.0, 'protein': 33.0, 'sodium': 0.0, 'sugar': 0.0}\n",
      "Posiłek: lunch\n",
      "  - Homemade - Pasta Carbonara, 2 portion: {'calories': 818.0, 'carbohydrates': 122.0, 'fat': 18.0, 'protein': 53.0, 'sodium': 1376.0, 'sugar': 16.0}\n",
      "Posiłek: dinner\n",
      "  - Corn flakes, 7 cup: {'calories': 625.0, 'carbohydrates': 147.0, 'fat': 1.0, 'protein': 13.0, 'sodium': 1276.0, 'sugar': 17.0}\n",
      "  - Milk, reduced fat, 2%, 5 cup: {'calories': 610.0, 'carbohydrates': 60.0, 'fat': 23.0, 'protein': 41.0, 'sodium': 476.0, 'sugar': 60.0}\n",
      "Posiłek: snacks\n"
     ]
    }
   ],
   "source": [
    "for meal in day.meals:\n",
    "    print(\"Posiłek:\", meal.name)\n",
    "    for entry in meal.entries:\n",
    "        # entry.name to nazwa produktu, entry.totals to słownik makro\n",
    "        print(f\"  - {entry.name}: {entry.totals}\")"
   ]
  },
  {
   "cell_type": "code",
   "execution_count": 8,
   "metadata": {},
   "outputs": [
    {
     "name": "stdout",
     "output_type": "stream",
     "text": [
      "Zapisano mfp_daily_totals.json\n"
     ]
    }
   ],
   "source": [
    "import datetime\n",
    "\n",
    "# zakres dat\n",
    "today = datetime.date.today()\n",
    "start = today - datetime.timedelta(days=7)   # ostatni rok\n",
    "dates = [start + datetime.timedelta(days=i) \n",
    "         for i in range((today - start).days + 1)]\n",
    "\n",
    "# totals dla każdej daty\n",
    "rows = []\n",
    "for d in dates:\n",
    "    day = client.get_date(d.year, d.month, d.day)\n",
    "    data = {\n",
    "        'date':         d.isoformat(),\n",
    "        'calories':     day.totals.get('calories', 0),\n",
    "        'carbohydrates':day.totals.get('carbohydrates', 0),\n",
    "        'fat':          day.totals.get('fat', 0),\n",
    "        'protein':      day.totals.get('protein', 0),\n",
    "        # możesz dorzucić inne klucze np. 'sodium', 'fiber' jeżeli są\n",
    "    }\n",
    "    rows.append(data)\n",
    "\n",
    "import json\n",
    "\n",
    "with open('mfp_daily_totals.json', 'w', encoding='utf-8') as f:\n",
    "    json.dump(rows, f, ensure_ascii=False, indent=2)\n",
    "\n",
    "print(\"Zapisano mfp_daily_totals.json\")"
   ]
  },
  {
   "cell_type": "code",
   "execution_count": 7,
   "metadata": {},
   "outputs": [
    {
     "name": "stdout",
     "output_type": "stream",
     "text": [
      "Zapisano mfp_daily_totals_and_menu.json\n"
     ]
    }
   ],
   "source": [
    "import datetime\n",
    "import json\n",
    "\n",
    "today = datetime.date.today()\n",
    "start = today - datetime.timedelta(days=7)\n",
    "dates = [start + datetime.timedelta(days=i)\n",
    "         for i in range((today - start).days + 1)]\n",
    "\n",
    "data = []\n",
    "for d in dates:\n",
    "    day = client.get_date(d.year, d.month, d.day)\n",
    "    day_dict = {\n",
    "        'date':   d.isoformat(),\n",
    "        'totals': day.totals,\n",
    "        'meals':  []\n",
    "    }\n",
    "\n",
    "    for meal in day.meals:\n",
    "        meal_dict = {\n",
    "            'name':    meal.name,\n",
    "            'entries': []\n",
    "        }\n",
    "        for entry in meal.entries:\n",
    "            meal_dict['entries'].append({\n",
    "                'food':      entry.name,\n",
    "                # jeśli entry.serving_size istnieje, dorzuć ilość:\n",
    "                **({'quantity': entry.serving_size} if hasattr(entry, 'serving_size') else {}),\n",
    "                'totals':    entry.totals\n",
    "            })\n",
    "        day_dict['meals'].append(meal_dict)\n",
    "\n",
    "    data.append(day_dict)\n",
    "\n",
    "\n",
    "with open('mfp_daily_totals_and_menu.json', 'w', encoding='utf-8') as f:\n",
    "    json.dump(data, f, ensure_ascii=False, indent=2)\n",
    "\n",
    "print(\"Zapisano mfp_daily_totals_and_menu.json\")"
   ]
  }
 ],
 "metadata": {
  "kernelspec": {
   "display_name": "base",
   "language": "python",
   "name": "python3"
  },
  "language_info": {
   "codemirror_mode": {
    "name": "ipython",
    "version": 3
   },
   "file_extension": ".py",
   "mimetype": "text/x-python",
   "name": "python",
   "nbconvert_exporter": "python",
   "pygments_lexer": "ipython3",
   "version": "3.12.4"
  }
 },
 "nbformat": 4,
 "nbformat_minor": 2
}
