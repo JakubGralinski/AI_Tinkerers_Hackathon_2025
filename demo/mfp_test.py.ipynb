{
 "cells": [
  {
   "cell_type": "code",
   "execution_count": 1,
   "metadata": {},
   "outputs": [],
   "source": [
    "import browser_cookie3\n",
    "import myfitnesspal\n",
    "\n",
    "# cookies z Firefoxa \n",
    "cj = browser_cookie3.firefox(domain_name='myfitnesspal.com')\n",
    "client = myfitnesspal.Client(cookiejar=cj)"
   ]
  },
  {
   "cell_type": "code",
   "execution_count": 16,
   "metadata": {},
   "outputs": [
    {
     "name": "stdout",
     "output_type": "stream",
     "text": [
      "Dnia 2025-04-25:\n",
      "{'calories': 2365.0, 'carbohydrates': 346.0, 'fat': 55.0, 'protein': 140.0, 'sodium': 3128.0, 'sugar': 93.0}\n"
     ]
    }
   ],
   "source": [
    "import datetime\n",
    "\n",
    "# Pobieramy dane dla wybranej daty, np. wczorajszej\n",
    "yesterday = datetime.date.today() - datetime.timedelta(days=1)\n",
    "day = client.get_date(yesterday.year, yesterday.month, yesterday.day)\n",
    "\n",
    "# Podsumowanie makroskładników\n",
    "print(f\"Dnia {yesterday}:\")\n",
    "print(day.totals)\n",
    "# => {'calories': 2000, 'carbohydrates': 250, 'fat': 70, 'protein': 100, ...}"
   ]
  },
  {
   "cell_type": "code",
   "execution_count": 14,
   "metadata": {},
   "outputs": [
    {
     "name": "stdout",
     "output_type": "stream",
     "text": [
      "Posiłek: breakfast\n",
      "  - Egg, 8 egg: {'calories': 572.0, 'carbohydrates': 4.0, 'fat': 40.0, 'protein': 50.0, 'sodium': 516.0, 'sugar': 1.0}\n",
      "  - White bread, 1 slice: {'calories': 75.0, 'carbohydrates': 14.0, 'fat': 1.0, 'protein': 3.0, 'sodium': 134.0, 'sugar': 1.0}\n",
      "  - White bread, 1 slice: {'calories': 75.0, 'carbohydrates': 14.0, 'fat': 1.0, 'protein': 3.0, 'sodium': 134.0, 'sugar': 1.0}\n",
      "Posiłek: lunch\n",
      "  - Steak, raw, 6 oz: {'calories': 389.0, 'carbohydrates': 0.0, 'fat': 22.0, 'protein': 46.0, 'sodium': 627.0, 'sugar': 0.0}\n",
      "  - French fries, 3 oz straight cut fries: {'calories': 191.0, 'carbohydrates': 20.0, 'fat': 12.0, 'protein': 2.0, 'sodium': 251.0, 'sugar': 0.0}\n",
      "  - Red Pepper, 1 pepper: {'calories': 31.0, 'carbohydrates': 12.0, 'fat': 0.0, 'protein': 1.0, 'sodium': 5.0, 'sugar': 5.0}\n",
      "Posiłek: dinner\n",
      "  - Burito A L - Burito, 100 g: {'calories': 298.0, 'carbohydrates': 39.0, 'fat': 12.0, 'protein': 9.0, 'sodium': 0.0, 'sugar': 0.0}\n",
      "  - Burito A L - Burito, 300 g: {'calories': 894.0, 'carbohydrates': 117.0, 'fat': 36.0, 'protein': 26.0, 'sodium': 0.0, 'sugar': 0.0}\n",
      "Posiłek: snacks\n"
     ]
    }
   ],
   "source": [
    "for meal in day.meals:\n",
    "    print(\"Posiłek:\", meal.name)\n",
    "    for entry in meal.entries:\n",
    "        # entry.name to nazwa produktu, entry.totals to słownik makro\n",
    "        print(f\"  - {entry.name}: {entry.totals}\")"
   ]
  },
  {
   "cell_type": "code",
   "execution_count": 12,
   "metadata": {},
   "outputs": [
    {
     "name": "stdout",
     "output_type": "stream",
     "text": [
      "Zapisano mfp_daily_totals.csv\n"
     ]
    }
   ],
   "source": [
    "import datetime\n",
    "import pandas as pd\n",
    "\n",
    "# 1) Zdefiniuj zakres dat\n",
    "today = datetime.date.today()\n",
    "start = today - datetime.timedelta(days=7)   # ostatni rok\n",
    "dates = [start + datetime.timedelta(days=i) \n",
    "         for i in range((today - start).days + 1)]\n",
    "\n",
    "# 2) Pobierz totals dla każdej daty\n",
    "rows = []\n",
    "for d in dates:\n",
    "    day = client.get_date(d.year, d.month, d.day)\n",
    "    data = {\n",
    "        'date':         d.isoformat(),\n",
    "        'calories':     day.totals.get('calories', 0),\n",
    "        'carbohydrates':day.totals.get('carbohydrates', 0),\n",
    "        'fat':          day.totals.get('fat', 0),\n",
    "        'protein':      day.totals.get('protein', 0),\n",
    "        # możesz dorzucić inne klucze np. 'sodium', 'fiber' jeżeli są\n",
    "    }\n",
    "    rows.append(data)\n",
    "\n",
    "# 3) Zbuduj DataFrame i zapisz CSV\n",
    "df_totals = pd.DataFrame(rows)\n",
    "df_totals.to_csv('mfp_daily_totals.csv', index=False)\n",
    "print(\"Zapisano mfp_daily_totals.csv\")"
   ]
  },
  {
   "cell_type": "code",
   "execution_count": 13,
   "metadata": {},
   "outputs": [
    {
     "data": {
      "text/html": [
       "<div>\n",
       "<style scoped>\n",
       "    .dataframe tbody tr th:only-of-type {\n",
       "        vertical-align: middle;\n",
       "    }\n",
       "\n",
       "    .dataframe tbody tr th {\n",
       "        vertical-align: top;\n",
       "    }\n",
       "\n",
       "    .dataframe thead th {\n",
       "        text-align: right;\n",
       "    }\n",
       "</style>\n",
       "<table border=\"1\" class=\"dataframe\">\n",
       "  <thead>\n",
       "    <tr style=\"text-align: right;\">\n",
       "      <th></th>\n",
       "      <th>date</th>\n",
       "      <th>calories</th>\n",
       "      <th>carbohydrates</th>\n",
       "      <th>fat</th>\n",
       "      <th>protein</th>\n",
       "    </tr>\n",
       "  </thead>\n",
       "  <tbody>\n",
       "    <tr>\n",
       "      <th>0</th>\n",
       "      <td>2025-04-19</td>\n",
       "      <td>3029.0</td>\n",
       "      <td>401.0</td>\n",
       "      <td>67.0</td>\n",
       "      <td>165.0</td>\n",
       "    </tr>\n",
       "    <tr>\n",
       "      <th>1</th>\n",
       "      <td>2025-04-20</td>\n",
       "      <td>2337.0</td>\n",
       "      <td>159.0</td>\n",
       "      <td>130.0</td>\n",
       "      <td>130.0</td>\n",
       "    </tr>\n",
       "    <tr>\n",
       "      <th>2</th>\n",
       "      <td>2025-04-21</td>\n",
       "      <td>2879.0</td>\n",
       "      <td>395.0</td>\n",
       "      <td>84.0</td>\n",
       "      <td>148.0</td>\n",
       "    </tr>\n",
       "    <tr>\n",
       "      <th>3</th>\n",
       "      <td>2025-04-22</td>\n",
       "      <td>2439.0</td>\n",
       "      <td>204.0</td>\n",
       "      <td>124.0</td>\n",
       "      <td>137.0</td>\n",
       "    </tr>\n",
       "    <tr>\n",
       "      <th>4</th>\n",
       "      <td>2025-04-23</td>\n",
       "      <td>2231.0</td>\n",
       "      <td>315.0</td>\n",
       "      <td>54.0</td>\n",
       "      <td>124.0</td>\n",
       "    </tr>\n",
       "    <tr>\n",
       "      <th>5</th>\n",
       "      <td>2025-04-24</td>\n",
       "      <td>2478.0</td>\n",
       "      <td>348.0</td>\n",
       "      <td>68.0</td>\n",
       "      <td>137.0</td>\n",
       "    </tr>\n",
       "    <tr>\n",
       "      <th>6</th>\n",
       "      <td>2025-04-25</td>\n",
       "      <td>2365.0</td>\n",
       "      <td>346.0</td>\n",
       "      <td>55.0</td>\n",
       "      <td>140.0</td>\n",
       "    </tr>\n",
       "    <tr>\n",
       "      <th>7</th>\n",
       "      <td>2025-04-26</td>\n",
       "      <td>2525.0</td>\n",
       "      <td>220.0</td>\n",
       "      <td>124.0</td>\n",
       "      <td>140.0</td>\n",
       "    </tr>\n",
       "  </tbody>\n",
       "</table>\n",
       "</div>"
      ],
      "text/plain": [
       "         date  calories  carbohydrates    fat  protein\n",
       "0  2025-04-19    3029.0          401.0   67.0    165.0\n",
       "1  2025-04-20    2337.0          159.0  130.0    130.0\n",
       "2  2025-04-21    2879.0          395.0   84.0    148.0\n",
       "3  2025-04-22    2439.0          204.0  124.0    137.0\n",
       "4  2025-04-23    2231.0          315.0   54.0    124.0\n",
       "5  2025-04-24    2478.0          348.0   68.0    137.0\n",
       "6  2025-04-25    2365.0          346.0   55.0    140.0\n",
       "7  2025-04-26    2525.0          220.0  124.0    140.0"
      ]
     },
     "execution_count": 13,
     "metadata": {},
     "output_type": "execute_result"
    }
   ],
   "source": [
    "df_totals"
   ]
  },
  {
   "cell_type": "code",
   "execution_count": null,
   "metadata": {},
   "outputs": [
    {
     "name": "stdout",
     "output_type": "stream",
     "text": [
      "Zapisano mfp_daily_totals.json\n"
     ]
    }
   ],
   "source": [
    "import json\n",
    "\n",
    "with open('mfp_daily_totals.json', 'w', encoding='utf-8') as f:\n",
    "    json.dump(rows, f, ensure_ascii=False, indent=2)\n",
    "\n",
    "print(\"Zapisano mfp_daily_totals.json\")"
   ]
  }
 ],
 "metadata": {
  "kernelspec": {
   "display_name": "base",
   "language": "python",
   "name": "python3"
  },
  "language_info": {
   "codemirror_mode": {
    "name": "ipython",
    "version": 3
   },
   "file_extension": ".py",
   "mimetype": "text/x-python",
   "name": "python",
   "nbconvert_exporter": "python",
   "pygments_lexer": "ipython3",
   "version": "3.12.4"
  }
 },
 "nbformat": 4,
 "nbformat_minor": 2
}
