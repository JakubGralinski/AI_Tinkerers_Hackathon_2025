{
 "cells": [
  {
   "metadata": {
    "ExecuteTime": {
     "end_time": "2025-04-25T21:05:14.050604Z",
     "start_time": "2025-04-25T21:05:13.380156Z"
    }
   },
   "cell_type": "code",
   "source": [
    "import requests\n",
    "from datetime import datetime\n",
    "from dotenv import load_dotenv\n",
    "import os\n",
    "\n",
    "load_dotenv()\n",
    "\n",
    "# Get Strava Access Token\n",
    "access_token = os.getenv(\"STRAVA_ACCESS_TOKEN\")\n",
    "\n",
    "response = requests.get(\n",
    "    \"https://www.strava.com/api/v3/athlete/activities\",\n",
    "    headers={\"Authorization\": f\"Bearer {access_token}\"}\n",
    ")\n",
    "\n",
    "#print(response.json())\n",
    "\n",
    "# Assuming `activities` is your list of activity JSON from Strava\n",
    "def display_summary(activities):\n",
    "    for activity in activities:\n",
    "        name = activity.get(\"name\")\n",
    "        sport_type = activity.get(\"sport_type\")\n",
    "        distance_km = round(activity.get(\"distance\", 0) / 1000, 2)\n",
    "        time_min = round(activity.get(\"moving_time\", 0) / 60, 1)\n",
    "        date = datetime.strptime(activity[\"start_date\"], \"%Y-%m-%dT%H:%M:%SZ\").strftime(\"%Y-%m-%d\")\n",
    "        heart = f\"{activity['average_heartrate']} bpm\" if activity.get(\"average_heartrate\") else \"n/a\"\n",
    "\n",
    "        print(f\"🏋️ {name} | {sport_type} | {distance_km} km | {time_min} min | {date} | HR: {heart}\")\n",
    "\n",
    "# Example usage\n",
    "display_summary(response.json())  # if you have raw response"
   ],
   "id": "68bfcc53428cbda0",
   "outputs": [
    {
     "name": "stdout",
     "output_type": "stream",
     "text": [
      "🏋️ Afternoon workout 💪 | WeightTraining | 0.0 km | 48.5 min | 2025-04-24 | HR: n/a\n",
      "🏋️ Afternoon workout 💪 | WeightTraining | 0.0 km | 111.5 min | 2025-04-23 | HR: n/a\n",
      "🏋️ Evening Run | Run | 5.23 km | 30.1 min | 2025-04-22 | HR: 185.4 bpm\n",
      "🏋️ Evening workout 🏋️ | WeightTraining | 0.0 km | 94.6 min | 2025-04-21 | HR: n/a\n",
      "🏋️ Morning Run | Run | 5.1 km | 29.3 min | 2025-04-21 | HR: 183.4 bpm\n",
      "🏋️ Morning workout ☀️ | WeightTraining | 0.0 km | 68.6 min | 2025-04-19 | HR: n/a\n",
      "🏋️ Evening workout 🏋️ | WeightTraining | 0.0 km | 79.0 min | 2025-04-18 | HR: n/a\n",
      "🏋️ Lunch Run | Run | 4.04 km | 22.2 min | 2025-04-17 | HR: 190.4 bpm\n",
      "🏋️ Afternoon workout 💪 | WeightTraining | 0.0 km | 108.2 min | 2025-04-14 | HR: n/a\n",
      "🏋️ Lunch Run | Run | 5.1 km | 29.2 min | 2025-04-13 | HR: 190.7 bpm\n",
      "🏋️ Morning workout ☀️ | WeightTraining | 0.0 km | 91.2 min | 2025-04-12 | HR: n/a\n",
      "🏋️ Afternoon workout 💪 | WeightTraining | 0.0 km | 101.2 min | 2025-04-11 | HR: n/a\n",
      "🏋️ Paris Run🥖🇫🇷 | Run | 5.06 km | 29.4 min | 2025-04-05 | HR: n/a\n",
      "🏋️ Afternoon workout 💪 | WeightTraining | 0.0 km | 107.9 min | 2025-04-02 | HR: n/a\n",
      "🏋️ Afternoon workout 💪 | WeightTraining | 0.0 km | 109.3 min | 2025-03-31 | HR: n/a\n",
      "🏋️ Afternoon workout 💪 | WeightTraining | 0.0 km | 77.6 min | 2025-03-29 | HR: n/a\n",
      "🏋️ Late night workout 🌙 | WeightTraining | 0.0 km | 108.6 min | 2025-03-28 | HR: n/a\n",
      "🏋️ Afternoon Run | Run | 5.22 km | 29.1 min | 2025-03-27 | HR: 185.1 bpm\n",
      "🏋️ Afternoon workout 💪 | WeightTraining | 0.0 km | 94.0 min | 2025-03-26 | HR: n/a\n",
      "🏋️ Afternoon workout 💪 | WeightTraining | 0.0 km | 107.2 min | 2025-03-24 | HR: n/a\n",
      "🏋️ Afternoon workout 💪 | WeightTraining | 0.0 km | 90.3 min | 2025-03-22 | HR: n/a\n",
      "🏋️ Evening workout 🏋️ | WeightTraining | 0.0 km | 72.0 min | 2025-03-21 | HR: n/a\n",
      "🏋️ Lunch Run | Run | 5.51 km | 32.2 min | 2025-03-20 | HR: 182.1 bpm\n",
      "🏋️ Evening workout 🏋️ | WeightTraining | 0.0 km | 62.9 min | 2025-03-19 | HR: n/a\n",
      "🏋️ Afternoon workout 💪 | WeightTraining | 0.0 km | 108.1 min | 2025-03-17 | HR: n/a\n",
      "🏋️ Evening workout 🏋️ | WeightTraining | 0.0 km | 45.6 min | 2025-03-14 | HR: n/a\n",
      "🏋️ Afternoon workout 💪 | WeightTraining | 0.0 km | 90.0 min | 2025-03-13 | HR: n/a\n",
      "🏋️ Late night workout 🌙 | WeightTraining | 0.0 km | 75.8 min | 2025-03-11 | HR: n/a\n",
      "🏋️ Afternoon workout 💪 | WeightTraining | 0.0 km | 103.2 min | 2025-03-10 | HR: n/a\n",
      "🏋️ Morning workout ☀️ | WeightTraining | 0.0 km | 62.0 min | 2025-03-08 | HR: n/a\n"
     ]
    }
   ],
   "execution_count": 13
  },
  {
   "metadata": {
    "ExecuteTime": {
     "end_time": "2025-04-25T20:28:48.593447Z",
     "start_time": "2025-04-25T20:28:48.584643Z"
    }
   },
   "cell_type": "code",
   "source": [
    "import json\n",
    "\n",
    "with open(\"strava_activities.json\", \"w\") as f:\n",
    "    json.dump(response.json(), f, indent=4)\n",
    "\n",
    "print(\"Exported to strava_activities.json\")"
   ],
   "id": "24f9550a595326bd",
   "outputs": [
    {
     "name": "stdout",
     "output_type": "stream",
     "text": [
      "Exported to strava_activities.json\n"
     ]
    }
   ],
   "execution_count": 12
  },
  {
   "metadata": {
    "ExecuteTime": {
     "end_time": "2025-04-25T20:28:48.607715Z",
     "start_time": "2025-04-25T20:28:48.595103Z"
    }
   },
   "cell_type": "code",
   "source": [
    "import csv\n",
    "from datetime import datetime\n",
    "\n",
    "activities = response.json()\n",
    "\n",
    "with open(\"strava_activities_detailed.csv\", \"w\", newline=\"\") as csvfile:\n",
    "    fieldnames = [\n",
    "        \"name\", \"sport_type\", \"distance_km\", \"moving_time_min\", \"elapsed_time_min\",\n",
    "        \"elevation_gain_m\", \"average_heartrate\", \"max_heartrate\", \"average_speed_kmh\",\n",
    "        \"start_date\", \"start_latlng\", \"end_latlng\", \"kudos_count\", \"suffer_score\"\n",
    "    ]\n",
    "    writer = csv.DictWriter(csvfile, fieldnames=fieldnames)\n",
    "    writer.writeheader()\n",
    "\n",
    "    for activity in activities:\n",
    "        writer.writerow({\n",
    "            \"name\": activity.get(\"name\"),\n",
    "            \"sport_type\": activity.get(\"sport_type\"),\n",
    "            \"distance_km\": round(activity.get(\"distance\", 0) / 1000, 2),\n",
    "            \"moving_time_min\": round(activity.get(\"moving_time\", 0) / 60, 1),\n",
    "            \"elapsed_time_min\": round(activity.get(\"elapsed_time\", 0) / 60, 1),\n",
    "            \"elevation_gain_m\": activity.get(\"total_elevation_gain\", 0),\n",
    "            \"average_heartrate\": activity.get(\"average_heartrate\", \"n/a\"),\n",
    "            \"max_heartrate\": activity.get(\"max_heartrate\", \"n/a\"),\n",
    "            \"average_speed_kmh\": round(activity.get(\"average_speed\", 0) * 3.6, 2),\n",
    "            \"start_date\": datetime.strptime(activity[\"start_date\"], \"%Y-%m-%dT%H:%M:%SZ\").strftime(\"%Y-%m-%d\"),\n",
    "            \"start_latlng\": activity.get(\"start_latlng\", []),\n",
    "            \"end_latlng\": activity.get(\"end_latlng\", []),\n",
    "            \"kudos_count\": activity.get(\"kudos_count\", 0),\n",
    "            \"suffer_score\": activity.get(\"suffer_score\", \"n/a\"),\n",
    "        })\n",
    "\n",
    "print(\"Exported to strava_activities_detailed.csv\")"
   ],
   "id": "2d8d662ae8d9c17",
   "outputs": [
    {
     "name": "stdout",
     "output_type": "stream",
     "text": [
      "Exported to strava_activities_detailed.csv\n"
     ]
    }
   ],
   "execution_count": 13
  },
  {
   "metadata": {
    "ExecuteTime": {
     "end_time": "2025-04-25T20:56:59.646946Z",
     "start_time": "2025-04-25T20:56:45.039311Z"
    }
   },
   "cell_type": "code",
   "source": [
    "import os\n",
    "from openai import OpenAI\n",
    "\n",
    "load_dotenv()\n",
    "\n",
    "# Set up the OpenAI client\n",
    "client = OpenAI(\n",
    "    api_key=os.getenv(\"OPENAI_API_KEY\")\n",
    ")\n",
    "\n",
    "# Load your activities\n",
    "with open(\"strava_activities.json\") as f:\n",
    "    activities = json.load(f)\n",
    "\n",
    "# Summarize last 10 workouts\n",
    "summary = \"\\n\".join([\n",
    "    f\"{a['name']} - {a['sport_type']} - {round(a['distance'] / 1000, 2)} km on {a['start_date'][:10]}\"\n",
    "    for a in activities[:10]\n",
    "])\n",
    "\n",
    "# Build prompt\n",
    "prompt = f\"\"\"\n",
    "Here are my last 10 workouts from Strava:\n",
    "{summary}\n",
    "\n",
    "My height is 180 cm and weight is 80 kg.\n",
    "\n",
    "- Calculate my daily calorie requirement.\n",
    "- Suggest a balanced dietary plan (breakfast, lunch, dinner, snacks) for the whole day.\n",
    "- Give calories and macros (protein, carbs, fats in grams) for each meal.\n",
    "- Add a simple recipe for each meal.\n",
    "\"\"\"\n",
    "\n",
    "# Now create chat completion using the client\n",
    "response = client.chat.completions.create(\n",
    "    model=\"gpt-4o\",\n",
    "    messages=[\n",
    "        {\"role\": \"user\", \"content\": prompt}\n",
    "    ]\n",
    ")\n",
    "\n",
    "print(response.choices[0].message.content)"
   ],
   "id": "22e60b503699bade",
   "outputs": [
    {
     "name": "stdout",
     "output_type": "stream",
     "text": [
      "To calculate your daily calorie requirement, we need to consider your Basal Metabolic Rate (BMR) and physical activity level. Given your height (180 cm) and weight (80 kg), we'll use the Mifflin-St Jeor equation to estimate your BMR. We'll also assume you're male and have a moderate physical activity level based on your workout routine:\n",
      "\n",
      "### Step 1: Calculate BMR\n",
      "\\[ \\text{BMR} = 10 \\times \\text{weight in kg} + 6.25 \\times \\text{height in cm} - 5 \\times \\text{age} + 5 \\]\n",
      "\n",
      "Assuming you're 30 years old (generally typical for simple calculations):\n",
      "\\[ \\text{BMR} = 10 \\times 80 + 6.25 \\times 180 - 5 \\times 30 + 5 \\]\n",
      "\\[ \\text{BMR} = 800 + 1125 - 150 + 5 \\]\n",
      "\\[ \\text{BMR} = 1780 \\, \\text{calories/day} \\]\n",
      "\n",
      "### Step 2: Estimate Total Daily Energy Expenditure (TDEE)\n",
      "Assuming moderate activity (1.55 factor):\n",
      "\\[ \\text{TDEE} = \\text{BMR} \\times \\text{Activity Level} \\]\n",
      "\\[ \\text{TDEE} = 1780 \\times 1.55 \\]\n",
      "\\[ \\text{TDEE} = 2759 \\, \\text{calories/day} \\]\n",
      "\n",
      "Based on this, your daily calorie requirement is approximately 2759 calories. A balanced macronutrient ratio (particularly for someone active) might be around 50% carbohydrates, 25% protein, and 25% fat.\n",
      "\n",
      "### Dietary Plan\n",
      "\n",
      "1. **Breakfast** (Approximately 600 calories):\n",
      "   - **Recipe**: Avocado Toast with Eggs\n",
      "   - **Ingredients**: \n",
      "     - 2 slices of whole-grain bread\n",
      "     - 1/2 avocado\n",
      "     - 2 eggs\n",
      "     - Salt, pepper, a dash of lemon juice\n",
      "   - **Instructions**: \n",
      "     1. Toast the bread.\n",
      "     2. Mash avocado with lemon juice, salt, and pepper.\n",
      "     3. Spread on toast.\n",
      "     4. Fry or poach eggs and place on top.\n",
      "   - **Macros**:\n",
      "     - Protein: 25g\n",
      "     - Carbs: 55g\n",
      "     - Fats: 30g\n",
      "\n",
      "2. **Lunch** (Approximately 800 calories):\n",
      "   - **Recipe**: Grilled Chicken Salad\n",
      "   - **Ingredients**:\n",
      "     - 150g chicken breast\n",
      "     - Mixed greens (spinach, arugula)\n",
      "     - 1/2 cup quinoa\n",
      "     - 1/4 cup cherry tomatoes\n",
      "     - 1/4 avocado\n",
      "     - 1 tsp olive oil\n",
      "     - Balsamic vinegar\n",
      "   - **Instructions**:\n",
      "     1. Grill the chicken, season with herbs.\n",
      "     2. Cook quinoa.\n",
      "     3. Mix greens, quinoa, and cherry tomatoes.\n",
      "     4. Top with chicken, avocado, and drizzle olive oil and balsamic vinegar.\n",
      "   - **Macros**:\n",
      "     - Protein: 55g\n",
      "     - Carbs: 60g\n",
      "     - Fats: 35g\n",
      "\n",
      "3. **Dinner** (Approximately 800 calories):\n",
      "   - **Recipe**: Baked Salmon with Vegetables\n",
      "   - **Ingredients**:\n",
      "     - 200g salmon fillet\n",
      "     - Mixed vegetables (broccoli, bell peppers, zucchini)\n",
      "     - 1 tsp olive oil\n",
      "     - Lemon, herbs, salt, pepper\n",
      "   - **Instructions**:\n",
      "     1. Preheat oven to 200°C (400°F).\n",
      "     2. Place salmon and vegetables on a baking sheet.\n",
      "     3. Drizzle with olive oil, season with lemon, herbs, salt, and pepper.\n",
      "     4. Bake for 15-20 minutes.\n",
      "   - **Macros**:\n",
      "     - Protein: 45g\n",
      "     - Carbs: 40g\n",
      "     - Fats: 45g\n",
      "\n",
      "4. **Snacks** (Approximately 550 calories):\n",
      "   - **Yogurt Parfait**:\n",
      "     - 1 cup Greek yogurt\n",
      "     - 1/2 cup mixed berries\n",
      "     - 1/4 cup granola\n",
      "   - **Nuts and Fruit**:\n",
      "     - 1/4 cup mixed nuts\n",
      "     - 1 medium apple\n",
      "   - **Macros**:\n",
      "     - Protein: 20g\n",
      "     - Carbs: 85g\n",
      "     - Fats: 25g\n",
      "\n",
      "This balanced diet covers your caloric needs, provides balanced macronutrients, and supports your activity level. Adjust portion sizes slightly based on individual preferences and exact caloric needs.\n"
     ]
    }
   ],
   "execution_count": 11
  },
  {
   "metadata": {
    "ExecuteTime": {
     "end_time": "2025-04-25T20:53:11.084770Z",
     "start_time": "2025-04-25T20:53:09.125217Z"
    }
   },
   "cell_type": "code",
   "source": "",
   "id": "d2090cf814154d9",
   "outputs": [
    {
     "name": "stdout",
     "output_type": "stream",
     "text": [
      "ID: asst_FYRCP0guynI7TiZ6VXBUyAbK | Name: None\n"
     ]
    }
   ],
   "execution_count": 9
  },
  {
   "metadata": {},
   "cell_type": "code",
   "outputs": [],
   "execution_count": null,
   "source": "",
   "id": "db03e9d0cf943ab8"
  }
 ],
 "metadata": {
  "kernelspec": {
   "display_name": "Python 3",
   "language": "python",
   "name": "python3"
  },
  "language_info": {
   "codemirror_mode": {
    "name": "ipython",
    "version": 2
   },
   "file_extension": ".py",
   "mimetype": "text/x-python",
   "name": "python",
   "nbconvert_exporter": "python",
   "pygments_lexer": "ipython2",
   "version": "2.7.6"
  }
 },
 "nbformat": 4,
 "nbformat_minor": 5
}
