{
 "cells": [
  {
   "cell_type": "code",
   "execution_count": 2,
   "metadata": {},
   "outputs": [],
   "source": [
    "import browser_cookie3\n",
    "import myfitnesspal\n",
    "\n",
    "# cookies z Firefoxa \n",
    "cj = browser_cookie3.firefox(domain_name='myfitnesspal.com')\n",
    "client = myfitnesspal.Client(cookiejar=cj)"
   ]
  },
  {
   "cell_type": "code",
   "execution_count": 3,
   "metadata": {},
   "outputs": [
    {
     "name": "stdout",
     "output_type": "stream",
     "text": [
      "Dnia 2025-04-24:\n",
      "{'calories': 1297.0, 'carbohydrates': 124.0, 'fat': 47.0, 'protein': 82.0, 'sodium': 1.0, 'sugar': 14.0}\n"
     ]
    }
   ],
   "source": [
    "import datetime\n",
    "\n",
    "# Pobieramy dane dla wybranej daty, np. wczorajszej\n",
    "yesterday = datetime.date.today() - datetime.timedelta(days=1)\n",
    "day = client.get_date(yesterday.year, yesterday.month, yesterday.day)\n",
    "\n",
    "# Podsumowanie makroskładników\n",
    "print(f\"Dnia {yesterday}:\")\n",
    "print(day.totals)\n",
    "# => {'calories': 2000, 'carbohydrates': 250, 'fat': 70, 'protein': 100, ...}"
   ]
  },
  {
   "cell_type": "code",
   "execution_count": 5,
   "metadata": {},
   "outputs": [
    {
     "name": "stdout",
     "output_type": "stream",
     "text": [
      "Posiłek: breakfast\n",
      "  - protein shake vanilla - protein shake vanilla, 300 ml: {'calories': 312.0, 'carbohydrates': 17.0, 'fat': 13.0, 'protein': 33.0, 'sodium': 0.0, 'sugar': 0.0}\n",
      "Posiłek: lunch\n",
      "  - oboad - obiad, 1 poru: {'calories': 880.0, 'carbohydrates': 80.0, 'fat': 34.0, 'protein': 48.0, 'sodium': 0.0, 'sugar': 0.0}\n",
      "Posiłek: dinner\n",
      "  - Banana, 1 medium: {'calories': 105.0, 'carbohydrates': 27.0, 'fat': 0.0, 'protein': 1.0, 'sodium': 1.0, 'sugar': 14.0}\n",
      "Posiłek: snacks\n"
     ]
    }
   ],
   "source": [
    "for meal in day.meals:\n",
    "    print(\"Posiłek:\", meal.name)\n",
    "    for entry in meal.entries:\n",
    "        # entry.name to nazwa produktu, entry.totals to słownik makro\n",
    "        print(f\"  - {entry.name}: {entry.totals}\")"
   ]
  },
  {
   "cell_type": "code",
   "execution_count": 6,
   "metadata": {},
   "outputs": [
    {
     "name": "stdout",
     "output_type": "stream",
     "text": [
      "Zapisano mfp_daily_totals.csv\n"
     ]
    }
   ],
   "source": [
    "import datetime\n",
    "import pandas as pd\n",
    "\n",
    "# 1) Zdefiniuj zakres dat\n",
    "today = datetime.date.today()\n",
    "start = today - datetime.timedelta(days=3)   # ostatni rok\n",
    "dates = [start + datetime.timedelta(days=i) \n",
    "         for i in range((today - start).days + 1)]\n",
    "\n",
    "# 2) Pobierz totals dla każdej daty\n",
    "rows = []\n",
    "for d in dates:\n",
    "    day = client.get_date(d.year, d.month, d.day)\n",
    "    data = {\n",
    "        'date':         d.isoformat(),\n",
    "        'calories':     day.totals.get('calories', 0),\n",
    "        'carbohydrates':day.totals.get('carbohydrates', 0),\n",
    "        'fat':          day.totals.get('fat', 0),\n",
    "        'protein':      day.totals.get('protein', 0),\n",
    "        # możesz dorzucić inne klucze np. 'sodium', 'fiber' jeżeli są\n",
    "    }\n",
    "    rows.append(data)\n",
    "\n",
    "# 3) Zbuduj DataFrame i zapisz CSV\n",
    "df_totals = pd.DataFrame(rows)\n",
    "df_totals.to_csv('mfp_daily_totals.csv', index=False)\n",
    "print(\"Zapisano mfp_daily_totals.csv\")"
   ]
  },
  {
   "cell_type": "code",
   "execution_count": 7,
   "metadata": {},
   "outputs": [
    {
     "data": {
      "text/html": [
       "<div>\n",
       "<style scoped>\n",
       "    .dataframe tbody tr th:only-of-type {\n",
       "        vertical-align: middle;\n",
       "    }\n",
       "\n",
       "    .dataframe tbody tr th {\n",
       "        vertical-align: top;\n",
       "    }\n",
       "\n",
       "    .dataframe thead th {\n",
       "        text-align: right;\n",
       "    }\n",
       "</style>\n",
       "<table border=\"1\" class=\"dataframe\">\n",
       "  <thead>\n",
       "    <tr style=\"text-align: right;\">\n",
       "      <th></th>\n",
       "      <th>date</th>\n",
       "      <th>calories</th>\n",
       "      <th>carbohydrates</th>\n",
       "      <th>fat</th>\n",
       "      <th>protein</th>\n",
       "    </tr>\n",
       "  </thead>\n",
       "  <tbody>\n",
       "    <tr>\n",
       "      <th>0</th>\n",
       "      <td>2025-04-22</td>\n",
       "      <td>0.0</td>\n",
       "      <td>0.0</td>\n",
       "      <td>0.0</td>\n",
       "      <td>0.0</td>\n",
       "    </tr>\n",
       "    <tr>\n",
       "      <th>1</th>\n",
       "      <td>2025-04-23</td>\n",
       "      <td>0.0</td>\n",
       "      <td>0.0</td>\n",
       "      <td>0.0</td>\n",
       "      <td>0.0</td>\n",
       "    </tr>\n",
       "    <tr>\n",
       "      <th>2</th>\n",
       "      <td>2025-04-24</td>\n",
       "      <td>1297.0</td>\n",
       "      <td>124.0</td>\n",
       "      <td>47.0</td>\n",
       "      <td>82.0</td>\n",
       "    </tr>\n",
       "    <tr>\n",
       "      <th>3</th>\n",
       "      <td>2025-04-25</td>\n",
       "      <td>2022.0</td>\n",
       "      <td>122.0</td>\n",
       "      <td>123.0</td>\n",
       "      <td>138.0</td>\n",
       "    </tr>\n",
       "  </tbody>\n",
       "</table>\n",
       "</div>"
      ],
      "text/plain": [
       "         date  calories  carbohydrates    fat  protein\n",
       "0  2025-04-22       0.0            0.0    0.0      0.0\n",
       "1  2025-04-23       0.0            0.0    0.0      0.0\n",
       "2  2025-04-24    1297.0          124.0   47.0     82.0\n",
       "3  2025-04-25    2022.0          122.0  123.0    138.0"
      ]
     },
     "execution_count": 7,
     "metadata": {},
     "output_type": "execute_result"
    }
   ],
   "source": [
    "df_totals"
   ]
  }
 ],
 "metadata": {
  "kernelspec": {
   "display_name": "base",
   "language": "python",
   "name": "python3"
  },
  "language_info": {
   "codemirror_mode": {
    "name": "ipython",
    "version": 3
   },
   "file_extension": ".py",
   "mimetype": "text/x-python",
   "name": "python",
   "nbconvert_exporter": "python",
   "pygments_lexer": "ipython3",
   "version": "3.12.4"
  }
 },
 "nbformat": 4,
 "nbformat_minor": 2
}
